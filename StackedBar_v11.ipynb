{
  "nbformat": 4,
  "nbformat_minor": 0,
  "metadata": {
    "colab": {
      "name": "StackedBar_v11.ipynb",
      "provenance": [],
      "authorship_tag": "ABX9TyNci31ipzP68uspDUVoCRZy",
      "include_colab_link": true
    },
    "kernelspec": {
      "name": "python3",
      "display_name": "Python 3"
    }
  },
  "cells": [
    {
      "cell_type": "markdown",
      "metadata": {
        "id": "view-in-github",
        "colab_type": "text"
      },
      "source": [
        "<a href=\"https://colab.research.google.com/github/son50git/Routine-with-Python/blob/master/StackedBar_v11.ipynb\" target=\"_parent\"><img src=\"https://colab.research.google.com/assets/colab-badge.svg\" alt=\"Open In Colab\"/></a>"
      ]
    },
    {
      "cell_type": "code",
      "metadata": {
        "id": "7M3tcKHAwaSK"
      },
      "source": [
        "import pandas as pd\n",
        "import numpy as np\n",
        "import matplotlib.pyplot as plt\n",
        "%matplotlib inline\n",
        "from sklearn import preprocessing\n",
        "# side by side <- NEXT task"
      ],
      "execution_count": 1,
      "outputs": []
    },
    {
      "cell_type": "code",
      "metadata": {
        "colab": {
          "resources": {
            "http://localhost:8080/nbextensions/google.colab/files.js": {
              "data": "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",
              "ok": true,
              "headers": [
                [
                  "content-type",
                  "application/javascript"
                ]
              ],
              "status": 200,
              "status_text": ""
            }
          },
          "base_uri": "https://localhost:8080/",
          "height": 89
        },
        "id": "-uHb6RXsaHTV",
        "outputId": "4efc6b14-a5fe-4e19-f2ca-6cf261e3124b"
      },
      "source": [
        "from google.colab import drive, files\n",
        "drive.mount(\"/content/drive\")\n",
        "uploaded = files.upload()\n",
        "rpt_name =\"Routine_rpts_20201201_1245_mac.xlsx\""
      ],
      "execution_count": 2,
      "outputs": [
        {
          "output_type": "stream",
          "text": [
            "Mounted at /content/drive\n"
          ],
          "name": "stdout"
        },
        {
          "output_type": "display_data",
          "data": {
            "text/html": [
              "\n",
              "     <input type=\"file\" id=\"files-5e19a31e-1b54-452f-ab6a-52824bf68c46\" name=\"files[]\" multiple disabled\n",
              "        style=\"border:none\" />\n",
              "     <output id=\"result-5e19a31e-1b54-452f-ab6a-52824bf68c46\">\n",
              "      Upload widget is only available when the cell has been executed in the\n",
              "      current browser session. Please rerun this cell to enable.\n",
              "      </output>\n",
              "      <script src=\"/nbextensions/google.colab/files.js\"></script> "
            ],
            "text/plain": [
              "<IPython.core.display.HTML object>"
            ]
          },
          "metadata": {
            "tags": []
          }
        },
        {
          "output_type": "stream",
          "text": [
            "Saving Routine_rpts_20201201_1245_mac.xlsx to Routine_rpts_20201201_1245_mac.xlsx\n"
          ],
          "name": "stdout"
        }
      ]
    },
    {
      "cell_type": "code",
      "metadata": {
        "id": "zlaU3yZGqzp7"
      },
      "source": [
        "def woe_and_scores(rpt_name, data_dur, roll_prd, min_periods): \n",
        "\n",
        "  # data prep\n",
        "  sheet1 = \"Daily_Output_Sup\"\n",
        "  woe_df = pd.read_excel(rpt_name, sheet_name=sheet1)\n",
        "  woe_df.drop(woe_df.tail(1).index,inplace=True) # drop the last row\n",
        "  woe_df[\"woe\"] = woe_df.WOE.rolling(roll_prd, min_periods=roll_prd).mean()\n",
        "  woe_df[\"score\"] = woe_df.SCORE.rolling(roll_prd, min_periods=roll_prd).mean()\n",
        "  woe_df = woe_df.tail(data_dur)\n",
        "  woe_df.reset_index(inplace=True)\n",
        "  woe_df.index = woe_df.index + 1\n",
        "  woe_df = woe_df[[\"DATE\",\"DAY\",\"woe\",\"score\"]]\n",
        "\n",
        "  sheet2 = \"RD Cats\"\n",
        "  cats_df = pd.read_excel(rpt_name, sheet_name=sheet2)\n",
        "  cats_df[\"ART\"] = cats_df.ART.rolling(roll_prd, min_periods=roll_prd).mean()\n",
        "  cats_df[\"SLP\"] = cats_df.SLP.rolling(roll_prd, min_periods=roll_prd).mean()\n",
        "  cats_df[\"ORD\"] = cats_df.ORD.rolling(roll_prd, min_periods=roll_prd).mean()\n",
        "  cats_df[\"LES\"] = cats_df.LES.rolling(roll_prd, min_periods=roll_prd).mean()\n",
        "  cats_df[\"TRA\"] = cats_df.TRA.rolling(roll_prd, min_periods=roll_prd).mean()\n",
        "  cats_df[\"Rel\"] = cats_df.Rel.rolling(roll_prd, min_periods=roll_prd).mean()\n",
        "  cats_df[\"Ref\"] = cats_df.Ref.rolling(roll_prd, min_periods=roll_prd).mean()\n",
        "  cats_df[\"PHA\"] = cats_df.PHA.rolling(roll_prd, min_periods=roll_prd).mean()\n",
        "  cats_df[\"SPC\"] = cats_df.SPC.rolling(roll_prd, min_periods=roll_prd).mean()\n",
        "  cats_df = cats_df.tail(data_dur)\n",
        "\n",
        "  cats_df.reset_index(inplace=True)\n",
        "  cats_df.index = cats_df.index + 1\n",
        "  cats_df1 = cats_df[['Date','Day','ART','Rel','Ref','PHA','LES']]\n",
        "  cats_df1[\"Pos_PCT\"] = cats_df1.iloc[:, -5:-2].sum(axis=1) / 1440.00\n",
        "  cats_df1 = cats_df1[[\"Pos_PCT\",\"ART\",\"LES\"]]\n",
        "\n",
        "  # data view\n",
        "  woe_df_concat = pd.concat([woe_df, cats_df1], axis=1)\n",
        "  print(woe_df_concat)\n",
        "\n",
        "  tmp_2 = [i + j for i,j in zip(cats_df[\"ART\"],cats_df[\"Rel\"])]\n",
        "  tmp_3 = [i + j for i,j in zip(tmp_2,cats_df[\"Ref\"])]\n",
        "  tmp_4 = [i + j for i,j in zip(tmp_3,cats_df[\"PHA\"])]\n",
        "  tmp_5 = [i + j for i,j in zip(tmp_4,cats_df[\"ORD\"])]\n",
        "  tmp_6 = [i + j for i,j in zip(tmp_5,cats_df[\"TRA\"])]\n",
        "  tmp_7 = [i + j for i,j in zip(tmp_6,cats_df[\"SPC\"])]\n",
        "  tmp_8 = [i + j for i,j in zip(tmp_7,cats_df[\"LES\"])]\n",
        "  bar_l = [i+1 for i in range(len(cats_df['ART']))]\n",
        "\n",
        "  # graph prep\n",
        "  fig, (ax1, ax2) = plt.subplots(1, 2, figsize=(16,4))\n",
        "  ax1.plot(woe_df[\"woe\"], color='blue', linewidth=4)\n",
        "  ax1.tick_params(axis='y', labelcolor='blue')\n",
        "  ax1b = ax1.twinx() \n",
        "  woe_df[\"score\"].plot(kind='bar', facecolor='.8', alpha=.5)\n",
        "\n",
        "  ax2.bar(bar_l, cats_df[\"ART\"], label=\"ART\", color=\"olive\")\n",
        "  ax2.bar(bar_l, cats_df[\"Rel\"], label=\"Rel\", color=\"purple\", bottom=cats_df[\"ART\"])\n",
        "  ax2.bar(bar_l, cats_df[\"Ref\"], label=\"Ref\", color=\"pink\", bottom=tmp_2)\n",
        "  ax2.bar(bar_l, cats_df[\"PHA\"], label=\"PHA\", color=\"cyan\", bottom=tmp_3)\n",
        "  ax2.bar(bar_l, cats_df[\"ORD\"], label=\"ORD\", color=\"brown\", bottom=tmp_4)\n",
        "  ax2.bar(bar_l, cats_df[\"TRA\"], label=\"TRA\", color=\"gray\", bottom=tmp_5)\n",
        "  ax2.bar(bar_l, cats_df[\"SPC\"], label=\"SPC\", color=\"black\", bottom=tmp_6)\n",
        "  ax2.bar(bar_l, cats_df[\"LES\"], label=\"LES\", color=\"red\", bottom=tmp_7)\n",
        "  ax2.bar(bar_l, cats_df[\"SLP\"], label=\"SLP\", color=\"blue\", bottom=tmp_8)\n",
        "  ax2.legend(loc='center left', bbox_to_anchor=(1, 0.75))\n"
      ],
      "execution_count": 3,
      "outputs": []
    },
    {
      "cell_type": "code",
      "metadata": {
        "colab": {
          "base_uri": "https://localhost:8080/",
          "height": 759
        },
        "id": "8UACcduBq5ZU",
        "outputId": "c3cbe322-67f3-431a-9403-a1a34d58eb5e"
      },
      "source": [
        "woe_and_scores(rpt_name, data_dur=21, roll_prd=7, min_periods=7)"
      ],
      "execution_count": 4,
      "outputs": [
        {
          "output_type": "stream",
          "text": [
            "/usr/local/lib/python3.6/dist-packages/ipykernel_launcher.py:30: SettingWithCopyWarning: \n",
            "A value is trying to be set on a copy of a slice from a DataFrame.\n",
            "Try using .loc[row_indexer,col_indexer] = value instead\n",
            "\n",
            "See the caveats in the documentation: https://pandas.pydata.org/pandas-docs/stable/user_guide/indexing.html#returning-a-view-versus-a-copy\n"
          ],
          "name": "stderr"
        },
        {
          "output_type": "stream",
          "text": [
            "          DATE  DAY       woe       score   Pos_PCT         ART         LES\n",
            "1   11/10/2020  TUE  0.493111  141.857143  0.349504  412.714286   65.571429\n",
            "2   11/11/2020  WED  0.425962  142.142857  0.340179  409.428571   77.571429\n",
            "3   11/12/2020  THU  0.376379  144.142857  0.339385  410.000000   71.428571\n",
            "4   11/13/2020  FRI  0.431795  152.571429  0.360119  447.428571   71.142857\n",
            "5   11/14/2020  SAT  0.340124  150.714286  0.351587  437.428571   75.571429\n",
            "6   11/15/2020  SUN  0.224439  132.285714  0.354861  448.000000   82.000000\n",
            "7   11/16/2020  MON -0.003185  116.857143  0.333433  417.000000  118.428571\n",
            "8   11/17/2020  TUE -0.215864  100.857143  0.340278  426.142857  134.857143\n",
            "9   11/18/2020  WED -0.380145   95.571429  0.335615  423.000000  167.857143\n",
            "10  11/19/2020  THU -0.458137   87.000000  0.323810  403.142857  215.571429\n",
            "11  11/20/2020  FRI -0.503415   84.000000  0.310317  380.428571  208.285714\n",
            "12  11/21/2020  SAT -0.488572   77.714286  0.311706  386.142857  209.428571\n",
            "13  11/22/2020  SUN -0.362314   92.142857  0.308829  365.000000  211.428571\n",
            "14  11/23/2020  MON -0.099680  107.285714  0.347321  416.000000  171.714286\n",
            "15  11/24/2020  TUE  0.053353  124.857143  0.339484  394.000000  152.428571\n",
            "16  11/25/2020  WED  0.224085  126.857143  0.368452  429.571429  132.571429\n",
            "17  11/26/2020  THU  0.428223  144.857143  0.404762  458.571429   86.000000\n",
            "18  11/27/2020  FRI  0.574445  152.714286  0.439980  507.571429   86.857143\n",
            "19  11/28/2020  SAT  0.642113  162.428571  0.435813  491.714286   78.000000\n",
            "20  11/29/2020  SUN  0.485622  143.428571  0.424306  472.142857   77.857143\n",
            "21  11/30/2020  MON  0.439371  135.285714  0.428175  471.000000   86.714286\n"
          ],
          "name": "stdout"
        },
        {
          "output_type": "display_data",
          "data": {
            "image/png": "[encoded data removed]",
            "text/plain": [
              "<Figure size 1152x288 with 3 Axes>"
            ]
          },
          "metadata": {
            "tags": [],
            "needs_background": "light"
          }
        }
      ]
    }
  ]
}